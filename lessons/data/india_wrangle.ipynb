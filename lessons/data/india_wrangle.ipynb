{
 "cells": [
  {
   "cell_type": "code",
   "execution_count": 2,
   "metadata": {},
   "outputs": [],
   "source": [
    "import pandas as pd"
   ]
  },
  {
   "cell_type": "code",
   "execution_count": 3,
   "metadata": {},
   "outputs": [],
   "source": [
    "df = pd.read_csv('2021_registered_companies.csv')"
   ]
  },
  {
   "cell_type": "code",
   "execution_count": 9,
   "metadata": {
    "scrolled": true
   },
   "outputs": [
    {
     "data": {
      "text/plain": [
       "['AN',\n",
       " 'AP',\n",
       " 'AR',\n",
       " 'AS',\n",
       " 'Andaman & Nicobar',\n",
       " 'Andhra Pradesh',\n",
       " 'Arunachal Pradesh',\n",
       " 'Assam',\n",
       " 'BR',\n",
       " 'Bihar',\n",
       " 'CH',\n",
       " 'CT',\n",
       " 'Chandigarh',\n",
       " 'Chattisgarh',\n",
       " 'DL',\n",
       " 'DN',\n",
       " 'Dadra & Nagar Haveli',\n",
       " 'Daman and Diu',\n",
       " 'Delhi',\n",
       " 'GA',\n",
       " 'GJ',\n",
       " 'Goa',\n",
       " 'Gujarat',\n",
       " 'HP',\n",
       " 'HR',\n",
       " 'Haryana',\n",
       " 'Himachal Pradesh',\n",
       " 'JH',\n",
       " 'JK',\n",
       " 'Jammu & Kashmir',\n",
       " 'Jharkhand',\n",
       " 'KA',\n",
       " 'KL',\n",
       " 'Karnataka',\n",
       " 'Kerala',\n",
       " 'LD',\n",
       " 'LH',\n",
       " 'Ladakh',\n",
       " 'Lakshadweep',\n",
       " 'MH',\n",
       " 'ML',\n",
       " 'MN',\n",
       " 'MP',\n",
       " 'MZ',\n",
       " 'Madhya Pradesh',\n",
       " 'Maharashtra',\n",
       " 'Manipur',\n",
       " 'Meghalaya',\n",
       " 'Mizoram',\n",
       " 'NL',\n",
       " 'Nagaland',\n",
       " 'OR',\n",
       " 'Orissa',\n",
       " 'PB',\n",
       " 'PY',\n",
       " 'Pondicherry',\n",
       " 'Punjab',\n",
       " 'RJ',\n",
       " 'Rajasthan',\n",
       " 'TG',\n",
       " 'TN',\n",
       " 'TR',\n",
       " 'Tamil Nadu',\n",
       " 'Telangana',\n",
       " 'Tripura',\n",
       " 'UP',\n",
       " 'UR',\n",
       " 'Uttar Pradesh',\n",
       " 'Uttarakhand',\n",
       " 'WB',\n",
       " 'West Bengal']"
      ]
     },
     "execution_count": 9,
     "metadata": {},
     "output_type": "execute_result"
    }
   ],
   "source": [
    "states = sorted(df['state'].unique())"
   ]
  },
  {
   "cell_type": "code",
   "execution_count": 13,
   "metadata": {},
   "outputs": [],
   "source": [
    "states_dict = {\n",
    "    \"AN\":\"Andaman and Nicobar Islands\",\n",
    "    \"AP\":\"Andhra Pradesh\",\n",
    "    \"AR\":\"Arunachal Pradesh\",\n",
    "    \"AS\":\"Assam\",\n",
    "    \"BR\":\"Bihar\",\n",
    "    \"CG\":\"Chandigarh\",\n",
    "    \"CH\":\"Chhattisgarh\",\n",
    "    \"DN\":\"Dadra and Nagar Haveli\",\n",
    "    \"DD\":\"Daman and Diu\",\n",
    "    \"DL\":\"Delhi\",\n",
    "    \"GA\":\"Goa\",\n",
    "    \"GJ\":\"Gujarat\",\n",
    "    \"HR\":\"Haryana\",\n",
    "    \"HP\":\"Himachal Pradesh\",\n",
    "    \"JK\":\"Jammu and Kashmir\",\n",
    "    \"JH\":\"Jharkhand\",\n",
    "    \"KA\":\"Karnataka\",\n",
    "    \"KL\":\"Kerala\",\n",
    "    \"LA\":\"Ladakh\",\n",
    "    \"LD\":\"Lakshadweep\",\n",
    "    \"MP\":\"Madhya Pradesh\",\n",
    "    \"MH\":\"Maharashtra\",\n",
    "    \"MN\":\"Manipur\",\n",
    "    \"ML\":\"Meghalaya\",\n",
    "    \"MZ\":\"Mizoram\",\n",
    "    \"NL\":\"Nagaland\",\n",
    "    \"OR\":\"Odisha\",\n",
    "    \"PY\":\"Puducherry\",\n",
    "    \"PB\":\"Punjab\",\n",
    "    \"RJ\":\"Rajasthan\",\n",
    "    \"SK\":\"Sikkim\",\n",
    "    \"TN\":\"Tamil Nadu\",\n",
    "    \"TS\":\"Telangana\",\n",
    "    \"TR\":\"Tripura\",\n",
    "    \"UP\":\"Uttar Pradesh\",\n",
    "    \"UK\":\"Uttarakhand\",\n",
    "    \"WB\":\"West Bengal\"\n",
    "}"
   ]
  },
  {
   "cell_type": "code",
   "execution_count": 40,
   "metadata": {},
   "outputs": [
    {
     "data": {
      "text/plain": [
       "37"
      ]
     },
     "execution_count": 40,
     "metadata": {},
     "output_type": "execute_result"
    }
   ],
   "source": [
    "states_dict"
   ]
  },
  {
   "cell_type": "code",
   "execution_count": 23,
   "metadata": {
    "scrolled": true
   },
   "outputs": [],
   "source": [
    "df['state'] = df['state'].replace(states_dict)"
   ]
  },
  {
   "cell_type": "code",
   "execution_count": 31,
   "metadata": {
    "scrolled": false
   },
   "outputs": [
    {
     "data": {
      "text/plain": [
       "['Andaman & Nicobar Island',\n",
       " 'Andaman and Nicobar Islands',\n",
       " 'Andhra Pradesh',\n",
       " 'Arunachal Pradesh',\n",
       " 'Assam',\n",
       " 'Bihar',\n",
       " 'Chandigarh',\n",
       " 'Chhattisgarh',\n",
       " 'Dadara & Nagar Havelli',\n",
       " 'Dadra & Nagar Haveli',\n",
       " 'Daman and Diu',\n",
       " 'Delhi',\n",
       " 'Goa',\n",
       " 'Gujarat',\n",
       " 'Haryana',\n",
       " 'Himachal Pradesh',\n",
       " 'Jammu & Kashmir',\n",
       " 'Jharkhand',\n",
       " 'Karnataka',\n",
       " 'Kerala',\n",
       " 'LH',\n",
       " 'Ladakh',\n",
       " 'Lakshadweep',\n",
       " 'Madhya Pradesh',\n",
       " 'Maharashtra',\n",
       " 'Manipur',\n",
       " 'Meghalaya',\n",
       " 'Mizoram',\n",
       " 'Nagaland',\n",
       " 'Orissa',\n",
       " 'Puducherry',\n",
       " 'Punjab',\n",
       " 'Rajasthan',\n",
       " 'Tamil Nadu',\n",
       " 'Telangana',\n",
       " 'Tripura',\n",
       " 'Uttar Pradesh',\n",
       " 'Uttarakhand',\n",
       " 'West Bengal']"
      ]
     },
     "execution_count": 31,
     "metadata": {},
     "output_type": "execute_result"
    }
   ],
   "source": [
    "sorted(df['state'].unique())"
   ]
  },
  {
   "cell_type": "code",
   "execution_count": null,
   "metadata": {},
   "outputs": [],
   "source": [
    "Andaman & Nicobar Island"
   ]
  },
  {
   "cell_type": "code",
   "execution_count": 44,
   "metadata": {},
   "outputs": [],
   "source": [
    "df['state'] = df['state'].replace({'Andaman & Nicobar':'Andaman & Nicobar Island',\n",
    "                                   'Andaman and Nicobar Islands': 'Andaman & Nicobar Island', \n",
    "                                  'Chattisgarh':'Chhattisgarh',\n",
    "                                  'CT':'Chhattisgarh',\n",
    "                                  'Dadra and Nagar Haveli':'Dadara & Nagar Havelli',\n",
    "                                  'Jammu and Kashmir':'Jammu & Kashmir',\n",
    "                                  'Orissa':'Odisha',\n",
    "                                  'Pondicherry':'Puducherry',\n",
    "                                  'TG': 'Telangana',\n",
    "                                  'UR': 'Uttarakhand',\n",
    "                                  'LH':'Ladakh'})"
   ]
  },
  {
   "cell_type": "code",
   "execution_count": 47,
   "metadata": {},
   "outputs": [
    {
     "data": {
      "text/plain": [
       "37"
      ]
     },
     "execution_count": 47,
     "metadata": {},
     "output_type": "execute_result"
    }
   ],
   "source": [
    "len(df['state'].unique())"
   ]
  },
  {
   "cell_type": "code",
   "execution_count": 48,
   "metadata": {},
   "outputs": [
    {
     "data": {
      "text/plain": [
       "{'AN': 'Andaman and Nicobar Islands',\n",
       " 'AP': 'Andhra Pradesh',\n",
       " 'AR': 'Arunachal Pradesh',\n",
       " 'AS': 'Assam',\n",
       " 'BR': 'Bihar',\n",
       " 'CG': 'Chandigarh',\n",
       " 'CH': 'Chhattisgarh',\n",
       " 'DN': 'Dadra and Nagar Haveli',\n",
       " 'DD': 'Daman and Diu',\n",
       " 'DL': 'Delhi',\n",
       " 'GA': 'Goa',\n",
       " 'GJ': 'Gujarat',\n",
       " 'HR': 'Haryana',\n",
       " 'HP': 'Himachal Pradesh',\n",
       " 'JK': 'Jammu and Kashmir',\n",
       " 'JH': 'Jharkhand',\n",
       " 'KA': 'Karnataka',\n",
       " 'KL': 'Kerala',\n",
       " 'LA': 'Ladakh',\n",
       " 'LD': 'Lakshadweep',\n",
       " 'MP': 'Madhya Pradesh',\n",
       " 'MH': 'Maharashtra',\n",
       " 'MN': 'Manipur',\n",
       " 'ML': 'Meghalaya',\n",
       " 'MZ': 'Mizoram',\n",
       " 'NL': 'Nagaland',\n",
       " 'OR': 'Odisha',\n",
       " 'PY': 'Puducherry',\n",
       " 'PB': 'Punjab',\n",
       " 'RJ': 'Rajasthan',\n",
       " 'SK': 'Sikkim',\n",
       " 'TN': 'Tamil Nadu',\n",
       " 'TS': 'Telangana',\n",
       " 'TR': 'Tripura',\n",
       " 'UP': 'Uttar Pradesh',\n",
       " 'UK': 'Uttarakhand',\n",
       " 'WB': 'West Bengal'}"
      ]
     },
     "execution_count": 48,
     "metadata": {},
     "output_type": "execute_result"
    }
   ],
   "source": [
    "states_dict"
   ]
  },
  {
   "cell_type": "code",
   "execution_count": 51,
   "metadata": {},
   "outputs": [
    {
     "ename": "AttributeError",
     "evalue": "'DataFrame' object has no attribute 'read_csv'",
     "output_type": "error",
     "traceback": [
      "\u001b[0;31m---------------------------------------------------------------------------\u001b[0m",
      "\u001b[0;31mAttributeError\u001b[0m                            Traceback (most recent call last)",
      "\u001b[0;32m<ipython-input-51-2db3fe3c4cf1>\u001b[0m in \u001b[0;36m<module>\u001b[0;34m\u001b[0m\n\u001b[0;32m----> 1\u001b[0;31m \u001b[0mdf\u001b[0m\u001b[0;34m.\u001b[0m\u001b[0mread_csv\u001b[0m\u001b[0;34m(\u001b[0m\u001b[0;34m'indian_startups.csv'\u001b[0m\u001b[0;34m,\u001b[0m \u001b[0mindex\u001b[0m\u001b[0;34m=\u001b[0m\u001b[0;32mFalse\u001b[0m\u001b[0;34m)\u001b[0m\u001b[0;34m\u001b[0m\u001b[0;34m\u001b[0m\u001b[0m\n\u001b[0m",
      "\u001b[0;32m~/Library/Python/3.8/lib/python/site-packages/pandas/core/generic.py\u001b[0m in \u001b[0;36m__getattr__\u001b[0;34m(self, name)\u001b[0m\n\u001b[1;32m   5463\u001b[0m             \u001b[0;32mif\u001b[0m \u001b[0mself\u001b[0m\u001b[0;34m.\u001b[0m\u001b[0m_info_axis\u001b[0m\u001b[0;34m.\u001b[0m\u001b[0m_can_hold_identifiers_and_holds_name\u001b[0m\u001b[0;34m(\u001b[0m\u001b[0mname\u001b[0m\u001b[0;34m)\u001b[0m\u001b[0;34m:\u001b[0m\u001b[0;34m\u001b[0m\u001b[0;34m\u001b[0m\u001b[0m\n\u001b[1;32m   5464\u001b[0m                 \u001b[0;32mreturn\u001b[0m \u001b[0mself\u001b[0m\u001b[0;34m[\u001b[0m\u001b[0mname\u001b[0m\u001b[0;34m]\u001b[0m\u001b[0;34m\u001b[0m\u001b[0;34m\u001b[0m\u001b[0m\n\u001b[0;32m-> 5465\u001b[0;31m             \u001b[0;32mreturn\u001b[0m \u001b[0mobject\u001b[0m\u001b[0;34m.\u001b[0m\u001b[0m__getattribute__\u001b[0m\u001b[0;34m(\u001b[0m\u001b[0mself\u001b[0m\u001b[0;34m,\u001b[0m \u001b[0mname\u001b[0m\u001b[0;34m)\u001b[0m\u001b[0;34m\u001b[0m\u001b[0;34m\u001b[0m\u001b[0m\n\u001b[0m\u001b[1;32m   5466\u001b[0m \u001b[0;34m\u001b[0m\u001b[0m\n\u001b[1;32m   5467\u001b[0m     \u001b[0;32mdef\u001b[0m \u001b[0m__setattr__\u001b[0m\u001b[0;34m(\u001b[0m\u001b[0mself\u001b[0m\u001b[0;34m,\u001b[0m \u001b[0mname\u001b[0m\u001b[0;34m:\u001b[0m \u001b[0mstr\u001b[0m\u001b[0;34m,\u001b[0m \u001b[0mvalue\u001b[0m\u001b[0;34m)\u001b[0m \u001b[0;34m->\u001b[0m \u001b[0;32mNone\u001b[0m\u001b[0;34m:\u001b[0m\u001b[0;34m\u001b[0m\u001b[0;34m\u001b[0m\u001b[0m\n",
      "\u001b[0;31mAttributeError\u001b[0m: 'DataFrame' object has no attribute 'read_csv'"
     ]
    }
   ],
   "source": [
    "df.to('indian_startups.csv', index=False) "
   ]
  },
  {
   "cell_type": "code",
   "execution_count": null,
   "metadata": {},
   "outputs": [],
   "source": []
  }
 ],
 "metadata": {
  "kernelspec": {
   "display_name": "Python 3",
   "language": "python",
   "name": "python3"
  },
  "language_info": {
   "codemirror_mode": {
    "name": "ipython",
    "version": 3
   },
   "file_extension": ".py",
   "mimetype": "text/x-python",
   "name": "python",
   "nbconvert_exporter": "python",
   "pygments_lexer": "ipython3",
   "version": "3.8.5"
  }
 },
 "nbformat": 4,
 "nbformat_minor": 4
}
